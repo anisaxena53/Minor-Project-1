{
 "cells": [
  {
   "cell_type": "code",
   "execution_count": 6,
   "metadata": {},
   "outputs": [],
   "source": [
    "\n",
    "import cv2 as cv\n",
    "import os\n",
    "import numpy as np\n",
    "from keras.models import model_from_json\n",
    "import matplotlib.pyplot as plt\n",
    "import tensorflow as tf\n",
    "import time"
   ]
  },
  {
   "cell_type": "code",
   "execution_count": 7,
   "metadata": {},
   "outputs": [],
   "source": [
    "cam=cv.VideoCapture(0)\n",
    "minValue=70\n",
    "interrupt=-1\n",
    "class_names=['Forward', 'Next', 'Pause', 'Play', 'Previous', 'Reverse', 'Volume Down', 'Volume Up']\n",
    "if not cam.isOpened():\n",
    "    print(\"Error!Camera is not opened.\")\n",
    "    exit()"
   ]
  },
  {
   "cell_type": "code",
   "execution_count": 8,
   "metadata": {},
   "outputs": [],
   "source": [
    "json_file = open(\"model-bw.json\", \"r\")\n",
    "model_json = json_file.read()\n",
    "json_file.close()\n",
    "loaded_model = model_from_json(model_json)\n",
    "loaded_model.load_weights(\"model-bw.h5\")\n"
   ]
  },
  {
   "cell_type": "code",
   "execution_count": null,
   "metadata": {},
   "outputs": [],
   "source": [
    "while True:\n",
    "    ret,frame = cam.read()\n",
    "    frame = cv.flip(frame, 1)\n",
    "    x1 = int(0.5*frame.shape[1])\n",
    "    y1 = 10\n",
    "    x2 = frame.shape[1]-10\n",
    "    y2 = int(0.5*frame.shape[1])\n",
    "    cv.rectangle(frame, (220-1, 9), (720+1, 519), (255,0,0) ,1)\n",
    "    roi = frame[10:510, 220:720]\n",
    "    cv.imshow(\"Frame\", frame)\n",
    "    roi = cv.resize(roi, (128,128))\n",
    "    cv.imshow(\"roi\", roi)\n",
    "    img_array = tf.keras.utils.img_to_array(roi)\n",
    "    img_array = tf.expand_dims(img_array, 0) # Create a batch\n",
    "    predictions = loaded_model.predict(img_array)\n",
    "    score = tf.nn.softmax(predictions[0])\n",
    "    if(np.max(score)>0.5):\n",
    "        print(\n",
    "        \"This image most likely belongs to {} with a {:.2f} percent confidence.\"\n",
    "         .format(class_names[np.argmax(score)], 100 * np.max(score))\n",
    "          )\n",
    "    interrupt = cv.waitKey(10)\n",
    "    time.sleep(1)\n",
    "    if interrupt & 0xFF == 27: # esc key\n",
    "        break\n",
    "    \n",
    "cam.release()\n",
    "cv.destroyAllWindows()"
   ]
  },
  {
   "cell_type": "code",
   "execution_count": null,
   "metadata": {},
   "outputs": [],
   "source": []
  },
  {
   "cell_type": "code",
   "execution_count": null,
   "metadata": {},
   "outputs": [],
   "source": []
  },
  {
   "cell_type": "code",
   "execution_count": null,
   "metadata": {},
   "outputs": [],
   "source": []
  }
 ],
 "metadata": {
  "kernelspec": {
   "display_name": "Python 3",
   "language": "python",
   "name": "python3"
  },
  "language_info": {
   "codemirror_mode": {
    "name": "ipython",
    "version": 3
   },
   "file_extension": ".py",
   "mimetype": "text/x-python",
   "name": "python",
   "nbconvert_exporter": "python",
   "pygments_lexer": "ipython3",
   "version": "3.8.5"
  }
 },
 "nbformat": 4,
 "nbformat_minor": 4
}
